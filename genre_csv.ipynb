{
 "cells": [
  {
   "cell_type": "code",
   "execution_count": 40,
   "metadata": {},
   "outputs": [],
   "source": [
    "import json \n",
    "import csv \n",
    "import pandas as pd \n",
    "import numpy as np\n",
    "import re "
   ]
  },
  {
   "cell_type": "code",
   "execution_count": 64,
   "metadata": {},
   "outputs": [],
   "source": [
    "def jsonl_to_csv(jsonl_filename, csv_filename):\n",
    "    with open(jsonl_filename, 'r') as jsonl_file, open(csv_filename, 'w', newline='') as csv_file:\n",
    "        \n",
    "        csv_writer = csv.writer(csv_file)\n",
    "\n",
    "        \n",
    "        first_line = jsonl_file.readline()\n",
    "        first_json = json.loads(first_line)\n",
    "        header = list(first_json.keys())\n",
    "        csv_writer.writerow(header)\n",
    "\n",
    "        jsonl_file.seek(0)  \n",
    "        for line in jsonl_file:\n",
    "            json_object = json.loads(line)\n",
    "            if len(json_object['genre'][0]) > 0:\n",
    "                csv_writer.writerow([json_object['md5'],json_object['genre'][0][0]])"
   ]
  },
  {
   "cell_type": "code",
   "execution_count": 65,
   "metadata": {},
   "outputs": [],
   "source": [
    "jsonl_filename = 'MMD_scraped_genre.jsonl'\n",
    "csv_filename = 'md5_genre.csv'\n",
    "jsonl_to_csv(jsonl_filename, csv_filename)"
   ]
  },
  {
   "cell_type": "code",
   "execution_count": 67,
   "metadata": {},
   "outputs": [],
   "source": [
    "genre_df = pd.read_csv('md5_genre.csv')\n",
    "# genre_df.head\n",
    "# genre_df['genre'] = genre_df['genre'].apply(lambda x: re.sub(r'\\[|\\]', '', x))\n",
    "# genre_df['genre'] = genre_df['genre'].apply(np.array)\n",
    "# genre_df['genre'] = genre_df['genre'].apply(lambda x:x[0])\n",
    "\n"
   ]
  },
  {
   "cell_type": "code",
   "execution_count": 71,
   "metadata": {},
   "outputs": [
    {
     "name": "stdout",
     "output_type": "stream",
     "text": [
      "['romantic' 'modern' 'baroque' 'renaissance' 'traditional_(folk)'\n",
      " 'early 20th century' 'classical' 'medieval' 'unknown era'\n",
      " 'early_20th_century' 'country' 'funk' 'alternative-indie' 'rock' 'jazz'\n",
      " 'soundtrack' 'pf' 'pop' 'blues' 'metal' 'hip-hop-rap' 'christian-gospel'\n",
      " 'punk' 'dance-eletric' 'bluegrass' 'film/tv' 'rnb-soul' 'disco' 'newage'\n",
      " 'reggae-ska' 'folk' 'musette' 'rap' 'latin' 'big-band' 'opera'\n",
      " 'electronica' 'fusion' 'grundge' 'composer' 'grunge' 'hardcore'\n",
      " 'traditional' 'duets' 'italian%2cfrench%2cspanish' 'musical%2cfilm%2ctv'\n",
      " 'oldies' 'instrumental' 'medley' 'ro' 'hits of 2011 2020'\n",
      " 'rock; punk; alternative-indie' 'doo-wop' 'piano' 'dance' 'swing'\n",
      " 'non-western_classical' 'ancient' 'world' 'film' 'hits of the 1950s'\n",
      " 'australian artists' 'christmas festive' 'best of british'\n",
      " 'big band swing' 'halloween songs' 'calypso' 'hits of the 1960s'\n",
      " 'elvis presley' 'blues contemporary' 'golden oldies' 'brazil'\n",
      " 'childrens songs' 'hits of the 1970s' 'hits of abba' 'classic modern rb'\n",
      " 'broadway and stage' 'chinese pop' 'french' 'hits of the 1980s'\n",
      " 'classical music' 'hits of the 1990s' 'hits of the 2000s' 'hip hop rap'\n",
      " 'football and sports themes' 'ballroom and standards' 'celtic' 'croatian'\n",
      " 'danish' 'german' 'greek' 'indian' 'instrumentals' 'international songs'\n",
      " 'irish' 'italian' 'japanese' 'jewish' 'k pop' 'latino' 'line dance'\n",
      " 'love songs' 'medleys' 'mexican' 'midi karaoke' 'national anthems'\n",
      " 'novelty songs' 'one hit wonders' 'party songs sing a longs'\n",
      " 'praise and worship' 'pride playlist' 'reggae' 'rockabilly' 'ska'\n",
      " 'slovenia' 'songs of motown' 'techno electronic' 'the beatles'\n",
      " 'the netherlands' 'tv and movie soundtracks' 'ultra lounge'\n",
      " 'unconfirmed category' 'waltz' 'wedding songs']\n"
     ]
    }
   ],
   "source": [
    "print(genre_df['genre'].unique())\n",
    "# print(genre_df['genre'].value_counts())\n",
    "# genre_df"
   ]
  }
 ],
 "metadata": {
  "kernelspec": {
   "display_name": "base",
   "language": "python",
   "name": "python3"
  },
  "language_info": {
   "codemirror_mode": {
    "name": "ipython",
    "version": 3
   },
   "file_extension": ".py",
   "mimetype": "text/x-python",
   "name": "python",
   "nbconvert_exporter": "python",
   "pygments_lexer": "ipython3",
   "version": "3.11.4"
  },
  "orig_nbformat": 4
 },
 "nbformat": 4,
 "nbformat_minor": 2
}
