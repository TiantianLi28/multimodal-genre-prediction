{
 "cells": [
  {
   "cell_type": "code",
   "execution_count": 1,
   "metadata": {},
   "outputs": [],
   "source": [
    "from sklearn.neural_network import MLPClassifier\n",
    "from sklearn.model_selection import GridSearchCV\n",
    "from sklearn.ensemble import RandomForestClassifier\n",
    "from sklearn.model_selection import train_test_split\n",
    "from sklearn.metrics import precision_score, recall_score, f1_score\n",
    "import pandas as pd\n",
    "import numpy as np\n",
    "import re"
   ]
  },
  {
   "cell_type": "code",
   "execution_count": 2,
   "metadata": {},
   "outputs": [],
   "source": [
    "HIDDEN_PARAMS = [(100,100,100),(100,80,60), (150, 120, 100), (150,100)]\n",
    "ALPHA = [1e-3, 1e-4, 1e-5]\n",
    "ESTIMATORS = [50,100,150,200]\n",
    "MAX_DEPTH =[3,5,7,10]\n",
    "MIN_LEAF = [25,50,75,100]"
   ]
  },
  {
   "cell_type": "code",
   "execution_count": 3,
   "metadata": {},
   "outputs": [],
   "source": [
    "def metrics(model, x, y):\n",
    "    prediction = model.predict(x)\n",
    "\n",
    "    f1 = f1_score(y, prediction)\n",
    "    precision = precision_score(y, prediction)\n",
    "    recall = recall_score(y, prediction)\n",
    "\n",
    "    scores = {'f1' : f1, 'precision' : precision, 'recall' : recall}\n",
    "\n",
    "    return scores"
   ]
  },
  {
   "cell_type": "code",
   "execution_count": 4,
   "metadata": {},
   "outputs": [],
   "source": [
    "\n",
    "def run_MLP(trainx, trainy, testx, testy):\n",
    "    hidden_layers = []\n",
    "    activations = ['logistic', 'tanh', 'relu']\n",
    "    alphas = []\n",
    "    def tune_nn(x, y, hiddenparams, actparams, alphaparams):\n",
    "\n",
    "        grid = {'hidden_layer_sizes': hiddenparams, 'activation': actparams, 'alpha': alphaparams}\n",
    "\n",
    "        nn = MLPClassifier()\n",
    "\n",
    "        grid_search = GridSearchCV(estimator=nn, param_grid=grid, scoring='accuracy', verbose=3)\n",
    "\n",
    "        grid_search.fit(x, y)\n",
    "\n",
    "        besthidden = grid_search.best_params_['hidden_layer_sizes']\n",
    "        bestactivation = grid_search.best_params_['activation']\n",
    "        bestalpha = grid_search.best_params_['alpha']\n",
    "\n",
    "        results = {'best-hidden': besthidden, 'best-activation': bestactivation, 'best-alpha': bestalpha}\n",
    "        return results\n",
    "\n",
    "    best_results = tune_nn(trainx, trainy, HIDDEN_PARAMS, activations, ALPHA)\n",
    "    hidden = best_results['best-hidden']\n",
    "    activation = best_results['best-activation']\n",
    "    alpha = best_results['best-alpha']\n",
    "    nn = MLPClassifier(hidden_layer_sizes=hidden, activation=activation, alpha=alpha)\n",
    "\n",
    "    nn.fit(trainx, trainy)\n",
    "\n",
    "    # metrics for test\n",
    "    test_metrics = metrics(nn, testx, testy)\n",
    "    return test_metrics"
   ]
  },
  {
   "cell_type": "code",
   "execution_count": 5,
   "metadata": {},
   "outputs": [],
   "source": [
    "def run_RF(trainx, trainy, testx, testy):\n",
    "    num_estimators = []\n",
    "    max_depths = []\n",
    "    min_samples_leaf = []\n",
    "    def tune_rf(x, y, num_estimators, dparams, lsparams):\n",
    "        # 2a\n",
    "        grid = {'n_estimators' : num_estimators, 'max_depth': dparams, 'min_samples_leaf': lsparams}\n",
    "        rf = RandomForestClassifier()\n",
    "        grid_search = GridSearchCV(estimator=rf, param_grid=grid, scoring='accuracy')\n",
    "        grid_search.fit(x, y)\n",
    "        best_estimator = grid_search.best_params_['n_estimators']\n",
    "        best_depth = grid_search.best_params_['max_depth']\n",
    "        best_leaf_samples = grid_search.best_params_['min_samples_leaf']\n",
    "        results = {'best-estimator' : best_estimator, 'best-depth': best_depth, 'best-leaf-samples': best_leaf_samples}\n",
    "        return results\n",
    "\n",
    "    grid, best_results = tune_rf(trainx, trainy, ESTIMATORS, MAX_DEPTH, MIN_LEAF)\n",
    "    estimator = best_results['best-estimator']\n",
    "    max_depth = best_results['best-depth']\n",
    "    leaves = best_results['best-leaf-samples']\n",
    "    forest = RandomForestClassifier(n_estimators=estimator, max_depth=max_depth, min_samples_leaf=leaves)\n",
    "\n",
    "    forest.fit(trainx, trainy)\n",
    "    # metrics for test\n",
    "    test_metrics = metrics(forest, testx, testy)\n",
    "    return test_metrics\n"
   ]
  },
  {
   "cell_type": "code",
   "execution_count": 5,
   "metadata": {},
   "outputs": [],
   "source": [
    "input_csv = 'mega_data.csv'\n",
    "df = pd.read_csv(input_csv)\n",
    "\n",
    "y = df['genre']\n",
    "\n",
    "X_train, X_test, y_train, y_test = train_test_split(df, y, test_size=0.2, random_state=42)\n",
    "\n",
    "\n",
    "# splitting data\n",
    "\n",
    "lyrics_train = X_train.iloc[:, 26:410]\n",
    "lyrics_test = X_test.iloc[:, 26:410]\n",
    "midi_train = X_train.iloc[:, 410:]\n",
    "midi_test = X_test.iloc[:, 410:]\n",
    "\n",
    "audio_indices = [12, 13, 14, 15, 16, 17, 18, 19, 20, 21, 22]\n",
    "audio_metadata_train = X_train.iloc[:, audio_indices].copy()\n",
    "audio_metadata_test = X_test.iloc[:, audio_indices].copy()\n",
    "# audio_metadata_train = audio_metadata_train.values\n",
    "# audio_metadata_test = audio_metadata_test.values"
   ]
  },
  {
   "cell_type": "code",
   "execution_count": 6,
   "metadata": {},
   "outputs": [
    {
     "name": "stdout",
     "output_type": "stream",
     "text": [
      "Fitting 5 folds for each of 36 candidates, totalling 180 fits\n"
     ]
    },
    {
     "name": "stderr",
     "output_type": "stream",
     "text": [
      "/Users/litiantian/anaconda3/lib/python3.11/site-packages/sklearn/neural_network/_multilayer_perceptron.py:691: ConvergenceWarning: Stochastic Optimizer: Maximum iterations (200) reached and the optimization hasn't converged yet.\n",
      "  warnings.warn(\n"
     ]
    },
    {
     "name": "stdout",
     "output_type": "stream",
     "text": [
      "[CV 1/5] END activation=logistic, alpha=0.001, hidden_layer_sizes=(100, 100, 100);, score=0.574 total time=  39.4s\n"
     ]
    },
    {
     "name": "stderr",
     "output_type": "stream",
     "text": [
      "/Users/litiantian/anaconda3/lib/python3.11/site-packages/sklearn/neural_network/_multilayer_perceptron.py:691: ConvergenceWarning: Stochastic Optimizer: Maximum iterations (200) reached and the optimization hasn't converged yet.\n",
      "  warnings.warn(\n"
     ]
    },
    {
     "name": "stdout",
     "output_type": "stream",
     "text": [
      "[CV 2/5] END activation=logistic, alpha=0.001, hidden_layer_sizes=(100, 100, 100);, score=0.594 total time=  38.6s\n"
     ]
    }
   ],
   "source": [
    "trainx = audio_metadata_train.join(lyrics_train)\n",
    "testx = audio_metadata_test.join(lyrics_test)\n",
    "run_MLP(trainx, y_train, testx, y_test)"
   ]
  }
 ],
 "metadata": {
  "kernelspec": {
   "display_name": "base",
   "language": "python",
   "name": "python3"
  },
  "language_info": {
   "codemirror_mode": {
    "name": "ipython",
    "version": 3
   },
   "file_extension": ".py",
   "mimetype": "text/x-python",
   "name": "python",
   "nbconvert_exporter": "python",
   "pygments_lexer": "ipython3",
   "version": "3.11.4"
  }
 },
 "nbformat": 4,
 "nbformat_minor": 2
}
