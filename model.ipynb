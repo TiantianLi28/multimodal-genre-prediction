{
 "cells": [
  {
   "cell_type": "code",
   "execution_count": 1,
   "metadata": {},
   "outputs": [],
   "source": [
    "from sklearn.neural_network import MLPClassifier\n",
    "from sklearn.model_selection import GridSearchCV\n",
    "from sklearn.ensemble import RandomForestClassifier\n",
    "from sklearn.preprocessing import StandardScaler\n",
    "from sklearn.model_selection import train_test_split\n",
    "from sklearn.metrics import precision_score, recall_score, f1_score, accuracy_score\n",
    "import pandas as pd\n",
    "import numpy as np\n",
    "import re"
   ]
  },
  {
   "cell_type": "code",
   "execution_count": 2,
   "metadata": {},
   "outputs": [],
   "source": [
    "HIDDEN_PARAMS = [(100,80,60), (150,120, 100), (150,100)]\n",
    "ALPHA = [1e-3, 1e-5]\n",
    "ESTIMATORS = [100,200]\n",
    "MAX_DEPTH =[3,5,7]\n",
    "MIN_LEAF = [50, 100]"
   ]
  },
  {
   "cell_type": "code",
   "execution_count": 3,
   "metadata": {},
   "outputs": [],
   "source": [
    "def metrics(model, x, y):\n",
    "    prediction = model.predict(x)\n",
    "\n",
    "    f1 = f1_score(y, prediction, average='macro')\n",
    "    precision = precision_score(y, prediction, average='macro')\n",
    "    recall = recall_score(y, prediction, average='macro')\n",
    "    acc = accuracy_score(y, prediction)\n",
    "    scores = {'f1' : f1, 'precision' : precision, 'recall' : recall, 'accuracy':acc}\n",
    "\n",
    "    return scores"
   ]
  },
  {
   "cell_type": "code",
   "execution_count": 4,
   "metadata": {},
   "outputs": [],
   "source": [
    "\n",
    "def run_MLP(trainx, trainy, testx, testy):\n",
    "    \n",
    "    #activations = ['logistic', 'tanh', 'relu']\n",
    "   \n",
    "    def tune_nn(x, y, hiddenparams, alphaparams):\n",
    "\n",
    "        grid = {'hidden_layer_sizes': hiddenparams, 'alpha': alphaparams}\n",
    "\n",
    "        nn = MLPClassifier(activation ='relu', max_iter = 500)\n",
    "\n",
    "        grid_search = GridSearchCV(estimator=nn, param_grid=grid, scoring='accuracy', verbose=3, cv = 3)\n",
    "\n",
    "        grid_search.fit(x, y)\n",
    "\n",
    "        besthidden = grid_search.best_params_['hidden_layer_sizes']\n",
    "        # bestactivation = grid_search.best_params_['activation']\n",
    "        bestalpha = grid_search.best_params_['alpha']\n",
    "\n",
    "        results = {'best-hidden': besthidden, 'best-activation': 'relu', 'best-alpha': bestalpha}\n",
    "        return results\n",
    "\n",
    "    best_results = tune_nn(trainx, trainy, HIDDEN_PARAMS, ALPHA)\n",
    "    hidden = best_results['best-hidden']\n",
    "    activation = 'relu'\n",
    "    alpha = best_results['best-alpha']\n",
    "    nn = MLPClassifier(hidden_layer_sizes=hidden, activation=activation, alpha=alpha)\n",
    "\n",
    "    nn.fit(trainx, trainy)\n",
    "\n",
    "    # metrics for test\n",
    "    test_metrics = metrics(nn, testx, testy)\n",
    "    return test_metrics"
   ]
  },
  {
   "cell_type": "code",
   "execution_count": 5,
   "metadata": {},
   "outputs": [],
   "source": [
    "def run_RF(trainx, trainy, testx, testy):\n",
    "    num_estimators = []\n",
    "    max_depths = []\n",
    "    min_samples_leaf = []\n",
    "    def tune_rf(x, y, num_estimators, dparams, lsparams):\n",
    "        # 2a\n",
    "        grid = {'n_estimators' : num_estimators, 'max_depth': dparams, 'min_samples_leaf': lsparams}\n",
    "        rf = RandomForestClassifier()\n",
    "        grid_search = GridSearchCV(estimator=rf, param_grid=grid, scoring='accuracy', verbose=3, cv = 3)\n",
    "        grid_search.fit(x, y)\n",
    "        best_estimator = grid_search.best_params_['n_estimators']\n",
    "        best_depth = grid_search.best_params_['max_depth']\n",
    "        best_leaf_samples = grid_search.best_params_['min_samples_leaf']\n",
    "        results = {'best-estimator' : best_estimator, 'best-depth': best_depth, 'best-leaf-samples': best_leaf_samples}\n",
    "        return results\n",
    "\n",
    "    best_results = tune_rf(trainx, trainy, ESTIMATORS, MAX_DEPTH, MIN_LEAF)\n",
    "    estimator = best_results['best-estimator']\n",
    "    max_depth = best_results['best-depth']\n",
    "    leaves = best_results['best-leaf-samples']\n",
    "    forest = RandomForestClassifier(n_estimators=estimator, max_depth=max_depth, min_samples_leaf=leaves)\n",
    "\n",
    "    forest.fit(trainx, trainy)\n",
    "    # metrics for test\n",
    "    test_metrics = metrics(forest, testx, testy)\n",
    "    return test_metrics\n"
   ]
  },
  {
   "cell_type": "code",
   "execution_count": 6,
   "metadata": {},
   "outputs": [],
   "source": [
    "input_csv = 'mega_data_3.csv'\n",
    "df = pd.read_csv(input_csv)\n",
    "\n",
    "y = df['genre']\n",
    "\n",
    "X_train, X_test, y_train, y_test = train_test_split(df, y, test_size=0.2, random_state=42)\n",
    "\n",
    "scaler = StandardScaler()\n",
    "# splitting data\n",
    "\n",
    "lyrics_train = scaler.fit_transform(X_train.iloc[:, 282:])\n",
    "lyrics_test = scaler.transform(X_test.iloc[:, 282:])\n",
    "midi_train = scaler.fit_transform(X_train.iloc[:, 26:282])\n",
    "midi_test = scaler.transform(X_test.iloc[:, 26:282])\n",
    "\n",
    "audio_indices = [12, 13, 14, 15, 16, 17, 18, 19, 20, 21, 22]\n",
    "audio_metadata_train = scaler.fit_transform(X_train.iloc[:, audio_indices].copy())\n",
    "audio_metadata_test = scaler.transform(X_test.iloc[:, audio_indices].copy())\n",
    "# audio_metadata_train = audio_metadata_train.values\n",
    "# audio_metadata_test = audio_metadata_test.values"
   ]
  },
  {
   "cell_type": "code",
   "execution_count": 28,
   "metadata": {},
   "outputs": [
    {
     "data": {
      "text/plain": [
       "(5783, 395)"
      ]
     },
     "execution_count": 28,
     "metadata": {},
     "output_type": "execute_result"
    }
   ],
   "source": [
    "np.concatenate([audio_metadata_train, lyrics_train], axis =1 )"
   ]
  },
  {
   "cell_type": "code",
   "execution_count": null,
   "metadata": {},
   "outputs": [],
   "source": [
    "# -----------MLP models--------------\n",
    "# SINGLE MODALITY"
   ]
  },
  {
   "cell_type": "code",
   "execution_count": 39,
   "metadata": {},
   "outputs": [
    {
     "name": "stdout",
     "output_type": "stream",
     "text": [
      "Fitting 3 folds for each of 6 candidates, totalling 18 fits\n",
      "[CV 1/3] END alpha=0.001, hidden_layer_sizes=(100, 80, 60);, score=0.880 total time=   4.0s\n",
      "[CV 2/3] END alpha=0.001, hidden_layer_sizes=(100, 80, 60);, score=0.885 total time=   6.6s\n",
      "[CV 3/3] END alpha=0.001, hidden_layer_sizes=(100, 80, 60);, score=0.873 total time=   3.5s\n",
      "[CV 1/3] END alpha=0.001, hidden_layer_sizes=(150, 120, 100);, score=0.879 total time=   6.6s\n",
      "[CV 2/3] END alpha=0.001, hidden_layer_sizes=(150, 120, 100);, score=0.870 total time=   5.1s\n",
      "[CV 3/3] END alpha=0.001, hidden_layer_sizes=(150, 120, 100);, score=0.878 total time=   7.1s\n",
      "[CV 1/3] END alpha=0.001, hidden_layer_sizes=(150, 100);, score=0.881 total time=   4.1s\n",
      "[CV 2/3] END alpha=0.001, hidden_layer_sizes=(150, 100);, score=0.883 total time=   3.3s\n",
      "[CV 3/3] END alpha=0.001, hidden_layer_sizes=(150, 100);, score=0.887 total time=   4.0s\n",
      "[CV 1/3] END alpha=1e-05, hidden_layer_sizes=(100, 80, 60);, score=0.871 total time=   3.4s\n",
      "[CV 2/3] END alpha=1e-05, hidden_layer_sizes=(100, 80, 60);, score=0.884 total time=   3.1s\n",
      "[CV 3/3] END alpha=1e-05, hidden_layer_sizes=(100, 80, 60);, score=0.883 total time=   3.2s\n",
      "[CV 1/3] END alpha=1e-05, hidden_layer_sizes=(150, 120, 100);, score=0.878 total time=   4.0s\n",
      "[CV 2/3] END alpha=1e-05, hidden_layer_sizes=(150, 120, 100);, score=0.880 total time=   3.9s\n",
      "[CV 3/3] END alpha=1e-05, hidden_layer_sizes=(150, 120, 100);, score=0.887 total time=   4.9s\n",
      "[CV 1/3] END alpha=1e-05, hidden_layer_sizes=(150, 100);, score=0.888 total time=   4.2s\n",
      "[CV 2/3] END alpha=1e-05, hidden_layer_sizes=(150, 100);, score=0.882 total time=   5.9s\n",
      "[CV 3/3] END alpha=1e-05, hidden_layer_sizes=(150, 100);, score=0.887 total time=   5.6s\n"
     ]
    },
    {
     "data": {
      "text/plain": [
       "{'f1': 0.9159903235604174,\n",
       " 'precision': 0.9199423453594889,\n",
       " 'recall': 0.9140297807065925,\n",
       " 'accuracy': 0.9204702627939142}"
      ]
     },
     "execution_count": 39,
     "metadata": {},
     "output_type": "execute_result"
    }
   ],
   "source": [
    "trainx = midi_train\n",
    "testx = midi_test\n",
    "# trainx = audio_metadata_train.join(lyrics_train)\n",
    "# testx = audio_metadata_test.join(lyrics_test)\n",
    "run_MLP(trainx, y_train, testx, y_test)"
   ]
  },
  {
   "cell_type": "code",
   "execution_count": 7,
   "metadata": {},
   "outputs": [
    {
     "name": "stdout",
     "output_type": "stream",
     "text": [
      "Fitting 3 folds for each of 6 candidates, totalling 18 fits\n",
      "[CV 1/3] END alpha=0.001, hidden_layer_sizes=(100, 80, 60);, score=0.793 total time=   6.0s\n",
      "[CV 2/3] END alpha=0.001, hidden_layer_sizes=(100, 80, 60);, score=0.813 total time=   4.7s\n",
      "[CV 3/3] END alpha=0.001, hidden_layer_sizes=(100, 80, 60);, score=0.801 total time=   3.6s\n",
      "[CV 1/3] END alpha=0.001, hidden_layer_sizes=(150, 120, 100);, score=0.788 total time=   5.3s\n",
      "[CV 2/3] END alpha=0.001, hidden_layer_sizes=(150, 120, 100);, score=0.820 total time=   9.7s\n",
      "[CV 3/3] END alpha=0.001, hidden_layer_sizes=(150, 120, 100);, score=0.806 total time=   5.1s\n",
      "[CV 1/3] END alpha=0.001, hidden_layer_sizes=(150, 100);, score=0.792 total time=   6.4s\n",
      "[CV 2/3] END alpha=0.001, hidden_layer_sizes=(150, 100);, score=0.818 total time=   3.6s\n",
      "[CV 3/3] END alpha=0.001, hidden_layer_sizes=(150, 100);, score=0.811 total time=   6.5s\n",
      "[CV 1/3] END alpha=1e-05, hidden_layer_sizes=(100, 80, 60);, score=0.786 total time=   6.8s\n",
      "[CV 2/3] END alpha=1e-05, hidden_layer_sizes=(100, 80, 60);, score=0.821 total time=   6.2s\n",
      "[CV 3/3] END alpha=1e-05, hidden_layer_sizes=(100, 80, 60);, score=0.810 total time=   3.7s\n",
      "[CV 1/3] END alpha=1e-05, hidden_layer_sizes=(150, 120, 100);, score=0.791 total time=   7.8s\n",
      "[CV 2/3] END alpha=1e-05, hidden_layer_sizes=(150, 120, 100);, score=0.813 total time=  14.2s\n",
      "[CV 3/3] END alpha=1e-05, hidden_layer_sizes=(150, 120, 100);, score=0.802 total time=  18.7s\n",
      "[CV 1/3] END alpha=1e-05, hidden_layer_sizes=(150, 100);, score=0.801 total time=   8.2s\n",
      "[CV 2/3] END alpha=1e-05, hidden_layer_sizes=(150, 100);, score=0.813 total time=   8.5s\n",
      "[CV 3/3] END alpha=1e-05, hidden_layer_sizes=(150, 100);, score=0.805 total time=   6.6s\n"
     ]
    },
    {
     "data": {
      "text/plain": [
       "{'f1': 0.8227845223758011,\n",
       " 'precision': 0.8313175997583,\n",
       " 'recall': 0.8194547042634082,\n",
       " 'accuracy': 0.8340248962655602}"
      ]
     },
     "execution_count": 7,
     "metadata": {},
     "output_type": "execute_result"
    }
   ],
   "source": [
    "trainx = lyrics_train\n",
    "testx = lyrics_test\n",
    "# trainx = audio_metadata_train.join(lyrics_train)\n",
    "# testx = audio_metadata_test.join(lyrics_test)\n",
    "run_MLP(trainx, y_train, testx, y_test)"
   ]
  },
  {
   "cell_type": "code",
   "execution_count": 38,
   "metadata": {},
   "outputs": [
    {
     "name": "stdout",
     "output_type": "stream",
     "text": [
      "Fitting 3 folds for each of 6 candidates, totalling 18 fits\n",
      "[CV 1/3] END alpha=0.001, hidden_layer_sizes=(100, 80, 60);, score=0.781 total time=   5.9s\n",
      "[CV 2/3] END alpha=0.001, hidden_layer_sizes=(100, 80, 60);, score=0.810 total time=   3.6s\n",
      "[CV 3/3] END alpha=0.001, hidden_layer_sizes=(100, 80, 60);, score=0.795 total time=   3.9s\n",
      "[CV 1/3] END alpha=0.001, hidden_layer_sizes=(150, 120, 100);, score=0.786 total time=   5.4s\n",
      "[CV 2/3] END alpha=0.001, hidden_layer_sizes=(150, 120, 100);, score=0.806 total time=   5.3s\n",
      "[CV 3/3] END alpha=0.001, hidden_layer_sizes=(150, 120, 100);, score=0.814 total time=   6.5s\n",
      "[CV 1/3] END alpha=0.001, hidden_layer_sizes=(150, 100);, score=0.791 total time=   6.5s\n",
      "[CV 2/3] END alpha=0.001, hidden_layer_sizes=(150, 100);, score=0.808 total time=  11.7s\n",
      "[CV 3/3] END alpha=0.001, hidden_layer_sizes=(150, 100);, score=0.800 total time=   8.7s\n",
      "[CV 1/3] END alpha=1e-05, hidden_layer_sizes=(100, 80, 60);, score=0.788 total time=   4.5s\n",
      "[CV 2/3] END alpha=1e-05, hidden_layer_sizes=(100, 80, 60);, score=0.819 total time=   3.4s\n",
      "[CV 3/3] END alpha=1e-05, hidden_layer_sizes=(100, 80, 60);, score=0.806 total time=   6.3s\n",
      "[CV 1/3] END alpha=1e-05, hidden_layer_sizes=(150, 120, 100);, score=0.797 total time=   4.8s\n",
      "[CV 2/3] END alpha=1e-05, hidden_layer_sizes=(150, 120, 100);, score=0.812 total time=  11.3s\n",
      "[CV 3/3] END alpha=1e-05, hidden_layer_sizes=(150, 120, 100);, score=0.810 total time=   4.1s\n",
      "[CV 1/3] END alpha=1e-05, hidden_layer_sizes=(150, 100);, score=0.786 total time=   7.5s\n",
      "[CV 2/3] END alpha=1e-05, hidden_layer_sizes=(150, 100);, score=0.813 total time=   9.6s\n",
      "[CV 3/3] END alpha=1e-05, hidden_layer_sizes=(150, 100);, score=0.806 total time=   3.9s\n"
     ]
    },
    {
     "data": {
      "text/plain": [
       "{'f1': 0.8268088254409075,\n",
       " 'precision': 0.849632105427005,\n",
       " 'recall': 0.8148133871394714,\n",
       " 'accuracy': 0.8381742738589212}"
      ]
     },
     "execution_count": 38,
     "metadata": {},
     "output_type": "execute_result"
    }
   ],
   "source": [
    "trainx = lyrics_train\n",
    "testx = lyrics_test\n",
    "# trainx = audio_metadata_train.join(lyrics_train)\n",
    "# testx = audio_metadata_test.join(lyrics_test)\n",
    "run_MLP(trainx, y_train, testx, y_test)"
   ]
  },
  {
   "cell_type": "code",
   "execution_count": null,
   "metadata": {},
   "outputs": [],
   "source": [
    "# ------------MLP-------------\n",
    "# DOUBLE MODALITIES"
   ]
  },
  {
   "cell_type": "code",
   "execution_count": 8,
   "metadata": {},
   "outputs": [
    {
     "name": "stdout",
     "output_type": "stream",
     "text": [
      "Fitting 3 folds for each of 6 candidates, totalling 18 fits\n",
      "[CV 1/3] END alpha=0.001, hidden_layer_sizes=(100, 80, 60);, score=0.789 total time=   4.3s\n",
      "[CV 2/3] END alpha=0.001, hidden_layer_sizes=(100, 80, 60);, score=0.816 total time=   3.3s\n",
      "[CV 3/3] END alpha=0.001, hidden_layer_sizes=(100, 80, 60);, score=0.806 total time=   3.3s\n",
      "[CV 1/3] END alpha=0.001, hidden_layer_sizes=(150, 120, 100);, score=0.812 total time=   5.8s\n",
      "[CV 2/3] END alpha=0.001, hidden_layer_sizes=(150, 120, 100);, score=0.816 total time=   5.7s\n",
      "[CV 3/3] END alpha=0.001, hidden_layer_sizes=(150, 120, 100);, score=0.811 total time=   7.5s\n",
      "[CV 1/3] END alpha=0.001, hidden_layer_sizes=(150, 100);, score=0.807 total time=   5.6s\n",
      "[CV 2/3] END alpha=0.001, hidden_layer_sizes=(150, 100);, score=0.822 total time=   5.3s\n",
      "[CV 3/3] END alpha=0.001, hidden_layer_sizes=(150, 100);, score=0.811 total time=   6.9s\n",
      "[CV 1/3] END alpha=1e-05, hidden_layer_sizes=(100, 80, 60);, score=0.792 total time=   3.3s\n",
      "[CV 2/3] END alpha=1e-05, hidden_layer_sizes=(100, 80, 60);, score=0.806 total time=   2.4s\n",
      "[CV 3/3] END alpha=1e-05, hidden_layer_sizes=(100, 80, 60);, score=0.796 total time=   3.2s\n",
      "[CV 1/3] END alpha=1e-05, hidden_layer_sizes=(150, 120, 100);, score=0.795 total time=   6.2s\n",
      "[CV 2/3] END alpha=1e-05, hidden_layer_sizes=(150, 120, 100);, score=0.815 total time=   6.3s\n",
      "[CV 3/3] END alpha=1e-05, hidden_layer_sizes=(150, 120, 100);, score=0.806 total time=   4.7s\n",
      "[CV 1/3] END alpha=1e-05, hidden_layer_sizes=(150, 100);, score=0.795 total time=   6.2s\n",
      "[CV 2/3] END alpha=1e-05, hidden_layer_sizes=(150, 100);, score=0.819 total time=   6.7s\n",
      "[CV 3/3] END alpha=1e-05, hidden_layer_sizes=(150, 100);, score=0.809 total time=   6.6s\n"
     ]
    },
    {
     "data": {
      "text/plain": [
       "{'f1': 0.8334596629330626,\n",
       " 'precision': 0.8314787599290354,\n",
       " 'recall': 0.838625197270161,\n",
       " 'accuracy': 0.8499308437067773}"
      ]
     },
     "execution_count": 8,
     "metadata": {},
     "output_type": "execute_result"
    }
   ],
   "source": [
    "trainx = np.concatenate([audio_metadata_train, lyrics_train], axis =1 )\n",
    "testx = np.concatenate([audio_metadata_test, lyrics_test], axis =1 )\n",
    "# trainx = audio_metadata_train.join(lyrics_train)\n",
    "# testx = audio_metadata_test.join(lyrics_test)\n",
    "run_MLP(trainx, y_train, testx, y_test)"
   ]
  },
  {
   "cell_type": "code",
   "execution_count": 9,
   "metadata": {},
   "outputs": [
    {
     "name": "stdout",
     "output_type": "stream",
     "text": [
      "Fitting 3 folds for each of 6 candidates, totalling 18 fits\n",
      "[CV 1/3] END alpha=0.001, hidden_layer_sizes=(100, 80, 60);, score=0.863 total time=   2.9s\n",
      "[CV 2/3] END alpha=0.001, hidden_layer_sizes=(100, 80, 60);, score=0.871 total time=   2.2s\n",
      "[CV 3/3] END alpha=0.001, hidden_layer_sizes=(100, 80, 60);, score=0.862 total time=   2.6s\n",
      "[CV 1/3] END alpha=0.001, hidden_layer_sizes=(150, 120, 100);, score=0.863 total time=   2.9s\n",
      "[CV 2/3] END alpha=0.001, hidden_layer_sizes=(150, 120, 100);, score=0.866 total time=   3.7s\n",
      "[CV 3/3] END alpha=0.001, hidden_layer_sizes=(150, 120, 100);, score=0.873 total time=   4.4s\n",
      "[CV 1/3] END alpha=0.001, hidden_layer_sizes=(150, 100);, score=0.865 total time=   3.0s\n",
      "[CV 2/3] END alpha=0.001, hidden_layer_sizes=(150, 100);, score=0.874 total time=   3.5s\n",
      "[CV 3/3] END alpha=0.001, hidden_layer_sizes=(150, 100);, score=0.872 total time=   3.2s\n",
      "[CV 1/3] END alpha=1e-05, hidden_layer_sizes=(100, 80, 60);, score=0.860 total time=   2.7s\n",
      "[CV 2/3] END alpha=1e-05, hidden_layer_sizes=(100, 80, 60);, score=0.876 total time=   2.6s\n",
      "[CV 3/3] END alpha=1e-05, hidden_layer_sizes=(100, 80, 60);, score=0.872 total time=   2.8s\n",
      "[CV 1/3] END alpha=1e-05, hidden_layer_sizes=(150, 120, 100);, score=0.866 total time=   3.3s\n",
      "[CV 2/3] END alpha=1e-05, hidden_layer_sizes=(150, 120, 100);, score=0.869 total time=   3.4s\n",
      "[CV 3/3] END alpha=1e-05, hidden_layer_sizes=(150, 120, 100);, score=0.869 total time=   3.6s\n",
      "[CV 1/3] END alpha=1e-05, hidden_layer_sizes=(150, 100);, score=0.871 total time=   3.7s\n",
      "[CV 2/3] END alpha=1e-05, hidden_layer_sizes=(150, 100);, score=0.874 total time=   3.6s\n",
      "[CV 3/3] END alpha=1e-05, hidden_layer_sizes=(150, 100);, score=0.875 total time=   4.1s\n"
     ]
    },
    {
     "data": {
      "text/plain": [
       "{'f1': 0.9136775625258814,\n",
       " 'precision': 0.9217149903479919,\n",
       " 'recall': 0.9063206871092634,\n",
       " 'accuracy': 0.9100968188105117}"
      ]
     },
     "execution_count": 9,
     "metadata": {},
     "output_type": "execute_result"
    }
   ],
   "source": [
    "trainx = np.concatenate([midi_train, lyrics_train], axis =1 )\n",
    "testx = np.concatenate([midi_test, lyrics_test], axis =1 )\n",
    "# trainx = midi_train.join(lyrics_train)\n",
    "# testx = midi_test.join(lyrics_test)\n",
    "run_MLP(trainx, y_train, testx, y_test)"
   ]
  },
  {
   "cell_type": "code",
   "execution_count": 32,
   "metadata": {},
   "outputs": [
    {
     "name": "stdout",
     "output_type": "stream",
     "text": [
      "Fitting 3 folds for each of 6 candidates, totalling 18 fits\n",
      "[CV 1/3] END alpha=0.001, hidden_layer_sizes=(100, 80, 60);, score=0.878 total time=   2.3s\n",
      "[CV 2/3] END alpha=0.001, hidden_layer_sizes=(100, 80, 60);, score=0.880 total time=   2.5s\n",
      "[CV 3/3] END alpha=0.001, hidden_layer_sizes=(100, 80, 60);, score=0.881 total time=   2.5s\n",
      "[CV 1/3] END alpha=0.001, hidden_layer_sizes=(150, 120, 100);, score=0.885 total time=   3.0s\n",
      "[CV 2/3] END alpha=0.001, hidden_layer_sizes=(150, 120, 100);, score=0.875 total time=   4.0s\n",
      "[CV 3/3] END alpha=0.001, hidden_layer_sizes=(150, 120, 100);, score=0.880 total time=   2.1s\n",
      "[CV 1/3] END alpha=0.001, hidden_layer_sizes=(150, 100);, score=0.887 total time=   2.9s\n",
      "[CV 2/3] END alpha=0.001, hidden_layer_sizes=(150, 100);, score=0.885 total time=   5.0s\n",
      "[CV 3/3] END alpha=0.001, hidden_layer_sizes=(150, 100);, score=0.894 total time=   6.3s\n",
      "[CV 1/3] END alpha=1e-05, hidden_layer_sizes=(100, 80, 60);, score=0.872 total time=   3.2s\n",
      "[CV 2/3] END alpha=1e-05, hidden_layer_sizes=(100, 80, 60);, score=0.877 total time=   3.4s\n",
      "[CV 3/3] END alpha=1e-05, hidden_layer_sizes=(100, 80, 60);, score=0.883 total time=   3.7s\n",
      "[CV 1/3] END alpha=1e-05, hidden_layer_sizes=(150, 120, 100);, score=0.883 total time=   2.8s\n",
      "[CV 2/3] END alpha=1e-05, hidden_layer_sizes=(150, 120, 100);, score=0.892 total time=   4.3s\n",
      "[CV 3/3] END alpha=1e-05, hidden_layer_sizes=(150, 120, 100);, score=0.892 total time=   3.7s\n",
      "[CV 1/3] END alpha=1e-05, hidden_layer_sizes=(150, 100);, score=0.882 total time=   3.2s\n",
      "[CV 2/3] END alpha=1e-05, hidden_layer_sizes=(150, 100);, score=0.886 total time=   6.0s\n",
      "[CV 3/3] END alpha=1e-05, hidden_layer_sizes=(150, 100);, score=0.884 total time=   6.0s\n"
     ]
    },
    {
     "data": {
      "text/plain": [
       "{'f1': 0.9181253857964793,\n",
       " 'precision': 0.92425100332191,\n",
       " 'recall': 0.9134133664418427,\n",
       " 'accuracy': 0.9246196403872753}"
      ]
     },
     "execution_count": 32,
     "metadata": {},
     "output_type": "execute_result"
    }
   ],
   "source": [
    "trainx = np.concatenate([midi_train, audio_metadata_train], axis =1 )\n",
    "testx = np.concatenate([midi_test, audio_metadata_test], axis =1 )\n",
    "# trainx = audio_metadata_train.join(midi_train)\n",
    "# testx = audio_metadata_test.join(midi_test)\n",
    "run_MLP(trainx, y_train, testx, y_test)"
   ]
  },
  {
   "cell_type": "code",
   "execution_count": null,
   "metadata": {},
   "outputs": [],
   "source": [
    "# --------------- MLP------------\n",
    "# ALL MODALITIES"
   ]
  },
  {
   "cell_type": "code",
   "execution_count": 33,
   "metadata": {},
   "outputs": [
    {
     "name": "stdout",
     "output_type": "stream",
     "text": [
      "Fitting 3 folds for each of 6 candidates, totalling 18 fits\n",
      "[CV 1/3] END alpha=0.001, hidden_layer_sizes=(100, 80, 60);, score=0.867 total time=   3.3s\n",
      "[CV 2/3] END alpha=0.001, hidden_layer_sizes=(100, 80, 60);, score=0.859 total time=   2.6s\n",
      "[CV 3/3] END alpha=0.001, hidden_layer_sizes=(100, 80, 60);, score=0.868 total time=   2.3s\n",
      "[CV 1/3] END alpha=0.001, hidden_layer_sizes=(150, 120, 100);, score=0.862 total time=   2.9s\n",
      "[CV 2/3] END alpha=0.001, hidden_layer_sizes=(150, 120, 100);, score=0.873 total time=   3.1s\n",
      "[CV 3/3] END alpha=0.001, hidden_layer_sizes=(150, 120, 100);, score=0.873 total time=   3.3s\n",
      "[CV 1/3] END alpha=0.001, hidden_layer_sizes=(150, 100);, score=0.868 total time=   3.2s\n",
      "[CV 2/3] END alpha=0.001, hidden_layer_sizes=(150, 100);, score=0.876 total time=   3.2s\n",
      "[CV 3/3] END alpha=0.001, hidden_layer_sizes=(150, 100);, score=0.881 total time=   3.3s\n",
      "[CV 1/3] END alpha=1e-05, hidden_layer_sizes=(100, 80, 60);, score=0.870 total time=   2.2s\n",
      "[CV 2/3] END alpha=1e-05, hidden_layer_sizes=(100, 80, 60);, score=0.870 total time=   2.1s\n",
      "[CV 3/3] END alpha=1e-05, hidden_layer_sizes=(100, 80, 60);, score=0.861 total time=   2.2s\n",
      "[CV 1/3] END alpha=1e-05, hidden_layer_sizes=(150, 120, 100);, score=0.878 total time=   3.1s\n",
      "[CV 2/3] END alpha=1e-05, hidden_layer_sizes=(150, 120, 100);, score=0.873 total time=   3.1s\n",
      "[CV 3/3] END alpha=1e-05, hidden_layer_sizes=(150, 120, 100);, score=0.879 total time=   3.2s\n",
      "[CV 1/3] END alpha=1e-05, hidden_layer_sizes=(150, 100);, score=0.871 total time=   4.3s\n",
      "[CV 2/3] END alpha=1e-05, hidden_layer_sizes=(150, 100);, score=0.873 total time=   3.6s\n",
      "[CV 3/3] END alpha=1e-05, hidden_layer_sizes=(150, 100);, score=0.870 total time=   3.2s\n"
     ]
    },
    {
     "data": {
      "text/plain": [
       "{'f1': 0.9225468905013273,\n",
       " 'precision': 0.9383192616094808,\n",
       " 'recall': 0.9090540717458606,\n",
       " 'accuracy': 0.9204702627939142}"
      ]
     },
     "execution_count": 33,
     "metadata": {},
     "output_type": "execute_result"
    }
   ],
   "source": [
    "trainx = np.concatenate([midi_train, audio_metadata_train, lyrics_train], axis =1 )\n",
    "testx = np.concatenate([midi_test, audio_metadata_test, lyrics_test], axis =1 )\n",
    "# trainx = audio_metadata_train.join(midi_train)\n",
    "# testx = audio_metadata_test.join(midi_test)\n",
    "run_MLP(trainx, y_train, testx, y_test)"
   ]
  },
  {
   "cell_type": "code",
   "execution_count": null,
   "metadata": {},
   "outputs": [],
   "source": [
    "# -----------RF models--------------\n",
    "# SINGLE MODALITY"
   ]
  },
  {
   "cell_type": "code",
   "execution_count": null,
   "metadata": {},
   "outputs": [],
   "source": [
    "trainx = midi_train\n",
    "testx = midi_test\n",
    "# trainx = audio_metadata_train.join(lyrics_train)\n",
    "# testx = audio_metadata_test.join(lyrics_test)\n",
    "run_RF(trainx, y_train, testx, y_test)"
   ]
  },
  {
   "cell_type": "code",
   "execution_count": null,
   "metadata": {},
   "outputs": [],
   "source": [
    "trainx = lyrics_train\n",
    "testx = lyrics_test\n",
    "# trainx = audio_metadata_train.join(lyrics_train)\n",
    "# testx = audio_metadata_test.join(lyrics_test)\n",
    "run_RF(trainx, y_train, testx, y_test)"
   ]
  },
  {
   "cell_type": "code",
   "execution_count": null,
   "metadata": {},
   "outputs": [],
   "source": [
    "trainx = audio_metadata_train\n",
    "testx = audio_metadata_test\n",
    "# trainx = audio_metadata_train.join(lyrics_train)\n",
    "# testx = audio_metadata_test.join(lyrics_test)\n",
    "run_RF(trainx, y_train, testx, y_test)"
   ]
  },
  {
   "cell_type": "code",
   "execution_count": null,
   "metadata": {},
   "outputs": [],
   "source": [
    "# -----------RF models--------------\n",
    "# DOUBLE MODALITY"
   ]
  },
  {
   "cell_type": "code",
   "execution_count": 34,
   "metadata": {},
   "outputs": [
    {
     "name": "stdout",
     "output_type": "stream",
     "text": [
      "Fitting 3 folds for each of 12 candidates, totalling 36 fits\n",
      "[CV 1/3] END max_depth=3, min_samples_leaf=50, n_estimators=100;, score=0.429 total time=   1.1s\n",
      "[CV 2/3] END max_depth=3, min_samples_leaf=50, n_estimators=100;, score=0.432 total time=   1.1s\n",
      "[CV 3/3] END max_depth=3, min_samples_leaf=50, n_estimators=100;, score=0.429 total time=   1.1s\n",
      "[CV 1/3] END max_depth=3, min_samples_leaf=50, n_estimators=200;, score=0.430 total time=   2.2s\n",
      "[CV 2/3] END max_depth=3, min_samples_leaf=50, n_estimators=200;, score=0.429 total time=   2.2s\n",
      "[CV 3/3] END max_depth=3, min_samples_leaf=50, n_estimators=200;, score=0.428 total time=   2.2s\n",
      "[CV 1/3] END max_depth=3, min_samples_leaf=100, n_estimators=100;, score=0.423 total time=   1.1s\n",
      "[CV 2/3] END max_depth=3, min_samples_leaf=100, n_estimators=100;, score=0.423 total time=   1.1s\n",
      "[CV 3/3] END max_depth=3, min_samples_leaf=100, n_estimators=100;, score=0.424 total time=   1.1s\n",
      "[CV 1/3] END max_depth=3, min_samples_leaf=100, n_estimators=200;, score=0.426 total time=   2.1s\n",
      "[CV 2/3] END max_depth=3, min_samples_leaf=100, n_estimators=200;, score=0.423 total time=   2.2s\n",
      "[CV 3/3] END max_depth=3, min_samples_leaf=100, n_estimators=200;, score=0.426 total time=   2.1s\n",
      "[CV 1/3] END max_depth=5, min_samples_leaf=50, n_estimators=100;, score=0.444 total time=   1.6s\n",
      "[CV 2/3] END max_depth=5, min_samples_leaf=50, n_estimators=100;, score=0.439 total time=   1.6s\n",
      "[CV 3/3] END max_depth=5, min_samples_leaf=50, n_estimators=100;, score=0.436 total time=   1.6s\n",
      "[CV 1/3] END max_depth=5, min_samples_leaf=50, n_estimators=200;, score=0.442 total time=   3.2s\n",
      "[CV 2/3] END max_depth=5, min_samples_leaf=50, n_estimators=200;, score=0.443 total time=   3.2s\n",
      "[CV 3/3] END max_depth=5, min_samples_leaf=50, n_estimators=200;, score=0.430 total time=   3.2s\n",
      "[CV 1/3] END max_depth=5, min_samples_leaf=100, n_estimators=100;, score=0.433 total time=   1.5s\n",
      "[CV 2/3] END max_depth=5, min_samples_leaf=100, n_estimators=100;, score=0.434 total time=   1.5s\n",
      "[CV 3/3] END max_depth=5, min_samples_leaf=100, n_estimators=100;, score=0.428 total time=   1.5s\n",
      "[CV 1/3] END max_depth=5, min_samples_leaf=100, n_estimators=200;, score=0.431 total time=   2.9s\n",
      "[CV 2/3] END max_depth=5, min_samples_leaf=100, n_estimators=200;, score=0.431 total time=   3.0s\n",
      "[CV 3/3] END max_depth=5, min_samples_leaf=100, n_estimators=200;, score=0.429 total time=   3.0s\n",
      "[CV 1/3] END max_depth=7, min_samples_leaf=50, n_estimators=100;, score=0.452 total time=   1.9s\n",
      "[CV 2/3] END max_depth=7, min_samples_leaf=50, n_estimators=100;, score=0.452 total time=   2.0s\n",
      "[CV 3/3] END max_depth=7, min_samples_leaf=50, n_estimators=100;, score=0.460 total time=   1.9s\n",
      "[CV 1/3] END max_depth=7, min_samples_leaf=50, n_estimators=200;, score=0.451 total time=   3.9s\n",
      "[CV 2/3] END max_depth=7, min_samples_leaf=50, n_estimators=200;, score=0.456 total time=   3.9s\n",
      "[CV 3/3] END max_depth=7, min_samples_leaf=50, n_estimators=200;, score=0.458 total time=   3.9s\n",
      "[CV 1/3] END max_depth=7, min_samples_leaf=100, n_estimators=100;, score=0.436 total time=   1.7s\n",
      "[CV 2/3] END max_depth=7, min_samples_leaf=100, n_estimators=100;, score=0.435 total time=   1.7s\n",
      "[CV 3/3] END max_depth=7, min_samples_leaf=100, n_estimators=100;, score=0.428 total time=   1.7s\n",
      "[CV 1/3] END max_depth=7, min_samples_leaf=100, n_estimators=200;, score=0.433 total time=   3.3s\n",
      "[CV 2/3] END max_depth=7, min_samples_leaf=100, n_estimators=200;, score=0.434 total time=   3.3s\n",
      "[CV 3/3] END max_depth=7, min_samples_leaf=100, n_estimators=200;, score=0.429 total time=   3.3s\n"
     ]
    },
    {
     "name": "stderr",
     "output_type": "stream",
     "text": [
      "/Users/litiantian/anaconda3/lib/python3.11/site-packages/sklearn/metrics/_classification.py:1469: UndefinedMetricWarning: Precision is ill-defined and being set to 0.0 in labels with no predicted samples. Use `zero_division` parameter to control this behavior.\n",
      "  _warn_prf(average, modifier, msg_start, len(result))\n"
     ]
    },
    {
     "data": {
      "text/plain": [
       "{'f1': 0.15424246509925357,\n",
       " 'precision': 0.5572916666666666,\n",
       " 'recall': 0.16879921864086705,\n",
       " 'accuracy': 0.4785615491009682}"
      ]
     },
     "execution_count": 34,
     "metadata": {},
     "output_type": "execute_result"
    }
   ],
   "source": [
    "trainx = np.concatenate([audio_metadata_train, lyrics_train], axis =1 )\n",
    "testx = np.concatenate([audio_metadata_test, lyrics_test], axis =1 )\n",
    "run_RF(trainx, y_train, testx, y_test)"
   ]
  },
  {
   "cell_type": "code",
   "execution_count": 35,
   "metadata": {},
   "outputs": [
    {
     "name": "stdout",
     "output_type": "stream",
     "text": [
      "Fitting 3 folds for each of 12 candidates, totalling 36 fits\n",
      "[CV 1/3] END max_depth=3, min_samples_leaf=50, n_estimators=100;, score=0.448 total time=   1.3s\n",
      "[CV 2/3] END max_depth=3, min_samples_leaf=50, n_estimators=100;, score=0.446 total time=   1.3s\n",
      "[CV 3/3] END max_depth=3, min_samples_leaf=50, n_estimators=100;, score=0.441 total time=   1.3s\n",
      "[CV 1/3] END max_depth=3, min_samples_leaf=50, n_estimators=200;, score=0.449 total time=   2.5s\n",
      "[CV 2/3] END max_depth=3, min_samples_leaf=50, n_estimators=200;, score=0.446 total time=   2.5s\n",
      "[CV 3/3] END max_depth=3, min_samples_leaf=50, n_estimators=200;, score=0.444 total time=   2.5s\n",
      "[CV 1/3] END max_depth=3, min_samples_leaf=100, n_estimators=100;, score=0.438 total time=   1.2s\n",
      "[CV 2/3] END max_depth=3, min_samples_leaf=100, n_estimators=100;, score=0.436 total time=   1.2s\n",
      "[CV 3/3] END max_depth=3, min_samples_leaf=100, n_estimators=100;, score=0.436 total time=   1.2s\n",
      "[CV 1/3] END max_depth=3, min_samples_leaf=100, n_estimators=200;, score=0.438 total time=   2.4s\n",
      "[CV 2/3] END max_depth=3, min_samples_leaf=100, n_estimators=200;, score=0.436 total time=   2.4s\n",
      "[CV 3/3] END max_depth=3, min_samples_leaf=100, n_estimators=200;, score=0.434 total time=   2.5s\n",
      "[CV 1/3] END max_depth=5, min_samples_leaf=50, n_estimators=100;, score=0.496 total time=   1.9s\n",
      "[CV 2/3] END max_depth=5, min_samples_leaf=50, n_estimators=100;, score=0.492 total time=   1.9s\n",
      "[CV 3/3] END max_depth=5, min_samples_leaf=50, n_estimators=100;, score=0.489 total time=   1.9s\n",
      "[CV 1/3] END max_depth=5, min_samples_leaf=50, n_estimators=200;, score=0.494 total time=   3.7s\n",
      "[CV 2/3] END max_depth=5, min_samples_leaf=50, n_estimators=200;, score=0.492 total time=   3.8s\n",
      "[CV 3/3] END max_depth=5, min_samples_leaf=50, n_estimators=200;, score=0.498 total time=   3.8s\n",
      "[CV 1/3] END max_depth=5, min_samples_leaf=100, n_estimators=100;, score=0.487 total time=   1.7s\n",
      "[CV 2/3] END max_depth=5, min_samples_leaf=100, n_estimators=100;, score=0.469 total time=   1.7s\n",
      "[CV 3/3] END max_depth=5, min_samples_leaf=100, n_estimators=100;, score=0.487 total time=   1.7s\n",
      "[CV 1/3] END max_depth=5, min_samples_leaf=100, n_estimators=200;, score=0.483 total time=   3.4s\n",
      "[CV 2/3] END max_depth=5, min_samples_leaf=100, n_estimators=200;, score=0.473 total time=   3.4s\n",
      "[CV 3/3] END max_depth=5, min_samples_leaf=100, n_estimators=200;, score=0.485 total time=   3.4s\n",
      "[CV 1/3] END max_depth=7, min_samples_leaf=50, n_estimators=100;, score=0.530 total time=   2.3s\n",
      "[CV 2/3] END max_depth=7, min_samples_leaf=50, n_estimators=100;, score=0.549 total time=   2.3s\n",
      "[CV 3/3] END max_depth=7, min_samples_leaf=50, n_estimators=100;, score=0.527 total time=   2.3s\n",
      "[CV 1/3] END max_depth=7, min_samples_leaf=50, n_estimators=200;, score=0.529 total time=   4.6s\n",
      "[CV 2/3] END max_depth=7, min_samples_leaf=50, n_estimators=200;, score=0.534 total time=   4.6s\n",
      "[CV 3/3] END max_depth=7, min_samples_leaf=50, n_estimators=200;, score=0.527 total time=   4.6s\n",
      "[CV 1/3] END max_depth=7, min_samples_leaf=100, n_estimators=100;, score=0.491 total time=   1.9s\n",
      "[CV 2/3] END max_depth=7, min_samples_leaf=100, n_estimators=100;, score=0.484 total time=   1.9s\n",
      "[CV 3/3] END max_depth=7, min_samples_leaf=100, n_estimators=100;, score=0.499 total time=   1.9s\n",
      "[CV 1/3] END max_depth=7, min_samples_leaf=100, n_estimators=200;, score=0.489 total time=   3.8s\n",
      "[CV 2/3] END max_depth=7, min_samples_leaf=100, n_estimators=200;, score=0.487 total time=   3.8s\n",
      "[CV 3/3] END max_depth=7, min_samples_leaf=100, n_estimators=200;, score=0.504 total time=   3.7s\n"
     ]
    },
    {
     "name": "stderr",
     "output_type": "stream",
     "text": [
      "/Users/litiantian/anaconda3/lib/python3.11/site-packages/sklearn/metrics/_classification.py:1469: UndefinedMetricWarning: Precision is ill-defined and being set to 0.0 in labels with no predicted samples. Use `zero_division` parameter to control this behavior.\n",
      "  _warn_prf(average, modifier, msg_start, len(result))\n"
     ]
    },
    {
     "data": {
      "text/plain": [
       "{'f1': 0.31876596931360085,\n",
       " 'precision': 0.793465771649734,\n",
       " 'recall': 0.27551455627338706,\n",
       " 'accuracy': 0.5573997233748271}"
      ]
     },
     "execution_count": 35,
     "metadata": {},
     "output_type": "execute_result"
    }
   ],
   "source": [
    "trainx = np.concatenate([midi_train, lyrics_train], axis =1 )\n",
    "testx = np.concatenate([midi_test, lyrics_test], axis =1 )\n",
    "run_RF(trainx, y_train, testx, y_test)"
   ]
  },
  {
   "cell_type": "code",
   "execution_count": 36,
   "metadata": {},
   "outputs": [
    {
     "name": "stdout",
     "output_type": "stream",
     "text": [
      "Fitting 3 folds for each of 12 candidates, totalling 36 fits\n",
      "[CV 1/3] END max_depth=3, min_samples_leaf=50, n_estimators=100;, score=0.450 total time=   0.7s\n",
      "[CV 2/3] END max_depth=3, min_samples_leaf=50, n_estimators=100;, score=0.449 total time=   0.7s\n",
      "[CV 3/3] END max_depth=3, min_samples_leaf=50, n_estimators=100;, score=0.461 total time=   0.7s\n",
      "[CV 1/3] END max_depth=3, min_samples_leaf=50, n_estimators=200;, score=0.453 total time=   1.3s\n",
      "[CV 2/3] END max_depth=3, min_samples_leaf=50, n_estimators=200;, score=0.449 total time=   1.4s\n",
      "[CV 3/3] END max_depth=3, min_samples_leaf=50, n_estimators=200;, score=0.456 total time=   1.3s\n",
      "[CV 1/3] END max_depth=3, min_samples_leaf=100, n_estimators=100;, score=0.441 total time=   0.7s\n",
      "[CV 2/3] END max_depth=3, min_samples_leaf=100, n_estimators=100;, score=0.436 total time=   0.7s\n",
      "[CV 3/3] END max_depth=3, min_samples_leaf=100, n_estimators=100;, score=0.440 total time=   0.7s\n",
      "[CV 1/3] END max_depth=3, min_samples_leaf=100, n_estimators=200;, score=0.438 total time=   1.3s\n",
      "[CV 2/3] END max_depth=3, min_samples_leaf=100, n_estimators=200;, score=0.436 total time=   1.3s\n",
      "[CV 3/3] END max_depth=3, min_samples_leaf=100, n_estimators=200;, score=0.434 total time=   1.3s\n",
      "[CV 1/3] END max_depth=5, min_samples_leaf=50, n_estimators=100;, score=0.502 total time=   1.0s\n",
      "[CV 2/3] END max_depth=5, min_samples_leaf=50, n_estimators=100;, score=0.498 total time=   1.0s\n",
      "[CV 3/3] END max_depth=5, min_samples_leaf=50, n_estimators=100;, score=0.508 total time=   1.0s\n",
      "[CV 1/3] END max_depth=5, min_samples_leaf=50, n_estimators=200;, score=0.495 total time=   2.0s\n",
      "[CV 2/3] END max_depth=5, min_samples_leaf=50, n_estimators=200;, score=0.503 total time=   2.0s\n",
      "[CV 3/3] END max_depth=5, min_samples_leaf=50, n_estimators=200;, score=0.505 total time=   2.0s\n",
      "[CV 1/3] END max_depth=5, min_samples_leaf=100, n_estimators=100;, score=0.493 total time=   0.9s\n",
      "[CV 2/3] END max_depth=5, min_samples_leaf=100, n_estimators=100;, score=0.482 total time=   0.9s\n",
      "[CV 3/3] END max_depth=5, min_samples_leaf=100, n_estimators=100;, score=0.489 total time=   0.9s\n",
      "[CV 1/3] END max_depth=5, min_samples_leaf=100, n_estimators=200;, score=0.492 total time=   1.8s\n",
      "[CV 2/3] END max_depth=5, min_samples_leaf=100, n_estimators=200;, score=0.485 total time=   1.8s\n",
      "[CV 3/3] END max_depth=5, min_samples_leaf=100, n_estimators=200;, score=0.497 total time=   1.8s\n",
      "[CV 1/3] END max_depth=7, min_samples_leaf=50, n_estimators=100;, score=0.548 total time=   1.2s\n",
      "[CV 2/3] END max_depth=7, min_samples_leaf=50, n_estimators=100;, score=0.548 total time=   1.2s\n",
      "[CV 3/3] END max_depth=7, min_samples_leaf=50, n_estimators=100;, score=0.553 total time=   1.2s\n",
      "[CV 1/3] END max_depth=7, min_samples_leaf=50, n_estimators=200;, score=0.553 total time=   2.4s\n",
      "[CV 2/3] END max_depth=7, min_samples_leaf=50, n_estimators=200;, score=0.556 total time=   2.4s\n",
      "[CV 3/3] END max_depth=7, min_samples_leaf=50, n_estimators=200;, score=0.555 total time=   2.4s\n",
      "[CV 1/3] END max_depth=7, min_samples_leaf=100, n_estimators=100;, score=0.495 total time=   1.0s\n",
      "[CV 2/3] END max_depth=7, min_samples_leaf=100, n_estimators=100;, score=0.504 total time=   1.0s\n",
      "[CV 3/3] END max_depth=7, min_samples_leaf=100, n_estimators=100;, score=0.501 total time=   1.0s\n",
      "[CV 1/3] END max_depth=7, min_samples_leaf=100, n_estimators=200;, score=0.498 total time=   2.0s\n",
      "[CV 2/3] END max_depth=7, min_samples_leaf=100, n_estimators=200;, score=0.505 total time=   2.0s\n",
      "[CV 3/3] END max_depth=7, min_samples_leaf=100, n_estimators=200;, score=0.501 total time=   2.0s\n"
     ]
    },
    {
     "name": "stderr",
     "output_type": "stream",
     "text": [
      "/Users/litiantian/anaconda3/lib/python3.11/site-packages/sklearn/metrics/_classification.py:1469: UndefinedMetricWarning: Precision is ill-defined and being set to 0.0 in labels with no predicted samples. Use `zero_division` parameter to control this behavior.\n",
      "  _warn_prf(average, modifier, msg_start, len(result))\n"
     ]
    },
    {
     "data": {
      "text/plain": [
       "{'f1': 0.3695760615692208,\n",
       " 'precision': 0.6853662953907452,\n",
       " 'recall': 0.3191849358499159,\n",
       " 'accuracy': 0.5912863070539419}"
      ]
     },
     "execution_count": 36,
     "metadata": {},
     "output_type": "execute_result"
    }
   ],
   "source": [
    "trainx = np.concatenate([midi_train, audio_metadata_train], axis =1 )\n",
    "testx = np.concatenate([midi_test, audio_metadata_test], axis =1 )\n",
    "run_RF(trainx, y_train, testx, y_test)"
   ]
  },
  {
   "cell_type": "code",
   "execution_count": null,
   "metadata": {},
   "outputs": [],
   "source": [
    "# --------------- MLP------------\n",
    "# ALL MODALITIES"
   ]
  },
  {
   "cell_type": "code",
   "execution_count": null,
   "metadata": {},
   "outputs": [],
   "source": [
    "trainx = np.concatenate([midi_train, audio_metadata_train, lyrics_train], axis =1 )\n",
    "testx = np.concatenate([midi_test, audio_metadata_test, lyrics_test], axis =1 )\n",
    "# trainx = audio_metadata_train.join(midi_train)\n",
    "# testx = audio_metadata_test.join(midi_test)\n",
    "run_RF(trainx, y_train, testx, y_test)"
   ]
  }
 ],
 "metadata": {
  "kernelspec": {
   "display_name": "base",
   "language": "python",
   "name": "python3"
  },
  "language_info": {
   "codemirror_mode": {
    "name": "ipython",
    "version": 3
   },
   "file_extension": ".py",
   "mimetype": "text/x-python",
   "name": "python",
   "nbconvert_exporter": "python",
   "pygments_lexer": "ipython3",
   "version": "3.11.4"
  }
 },
 "nbformat": 4,
 "nbformat_minor": 2
}
